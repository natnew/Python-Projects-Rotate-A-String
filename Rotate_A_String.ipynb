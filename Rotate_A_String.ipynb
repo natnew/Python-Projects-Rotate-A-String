{
  "nbformat": 4,
  "nbformat_minor": 0,
  "metadata": {
    "colab": {
      "name": "Rotate A String.ipynb",
      "provenance": [],
      "collapsed_sections": [],
      "authorship_tag": "ABX9TyP61Op8y4rL64CxJK6zfhJa",
      "include_colab_link": true
    },
    "kernelspec": {
      "name": "python3",
      "display_name": "Python 3"
    },
    "language_info": {
      "name": "python"
    }
  },
  "cells": [
    {
      "cell_type": "markdown",
      "metadata": {
        "id": "view-in-github",
        "colab_type": "text"
      },
      "source": [
        "<a href=\"https://colab.research.google.com/github/natnew/Python-Projects-Rotate-A-String/blob/main/Rotate_A_String.ipynb\" target=\"_parent\"><img src=\"https://colab.research.google.com/assets/colab-badge.svg\" alt=\"Open In Colab\"/></a>"
      ]
    },
    {
      "cell_type": "code",
      "metadata": {
        "id": "Wptx3tAml7z6"
      },
      "source": [
        "s = \"100 Python projects\""
      ],
      "execution_count": 6,
      "outputs": []
    },
    {
      "cell_type": "code",
      "metadata": {
        "colab": {
          "base_uri": "https://localhost:8080/",
          "height": 35
        },
        "id": "9xb0XjBJl_t7",
        "outputId": "5ae911d4-5fec-47d2-ba55-50507d1ab726"
      },
      "source": [
        "s[3:] + s[:3]"
      ],
      "execution_count": 7,
      "outputs": [
        {
          "output_type": "execute_result",
          "data": {
            "application/vnd.google.colaboratory.intrinsic+json": {
              "type": "string"
            },
            "text/plain": [
              "' Python projects100'"
            ]
          },
          "metadata": {},
          "execution_count": 7
        }
      ]
    },
    {
      "cell_type": "code",
      "metadata": {
        "colab": {
          "base_uri": "https://localhost:8080/",
          "height": 35
        },
        "id": "JIyCCzxmmCw3",
        "outputId": "243d3373-1f79-4476-85de-e24919776989"
      },
      "source": [
        "s[-3:] + s[:-3]"
      ],
      "execution_count": 8,
      "outputs": [
        {
          "output_type": "execute_result",
          "data": {
            "application/vnd.google.colaboratory.intrinsic+json": {
              "type": "string"
            },
            "text/plain": [
              "'cts100 Python proje'"
            ]
          },
          "metadata": {},
          "execution_count": 8
        }
      ]
    },
    {
      "cell_type": "code",
      "metadata": {
        "colab": {
          "base_uri": "https://localhost:8080/"
        },
        "id": "4caHnDimmEjN",
        "outputId": "df1bea43-28d8-4a0c-9ce3-f6c517c8adf6"
      },
      "source": [
        "from collections import deque\n",
        "d = deque(s)\n",
        "d.rotate(3)\n",
        "d"
      ],
      "execution_count": 9,
      "outputs": [
        {
          "output_type": "execute_result",
          "data": {
            "text/plain": [
              "deque(['c',\n",
              "       't',\n",
              "       's',\n",
              "       '1',\n",
              "       '0',\n",
              "       '0',\n",
              "       ' ',\n",
              "       'P',\n",
              "       'y',\n",
              "       't',\n",
              "       'h',\n",
              "       'o',\n",
              "       'n',\n",
              "       ' ',\n",
              "       'p',\n",
              "       'r',\n",
              "       'o',\n",
              "       'j',\n",
              "       'e'])"
            ]
          },
          "metadata": {},
          "execution_count": 9
        }
      ]
    },
    {
      "cell_type": "code",
      "metadata": {
        "colab": {
          "base_uri": "https://localhost:8080/",
          "height": 35
        },
        "id": "Sa83is1zmIOI",
        "outputId": "d9d413b2-3dbe-45c7-cea5-2ca277e35e13"
      },
      "source": [
        "\"\".join(d)"
      ],
      "execution_count": 10,
      "outputs": [
        {
          "output_type": "execute_result",
          "data": {
            "application/vnd.google.colaboratory.intrinsic+json": {
              "type": "string"
            },
            "text/plain": [
              "'cts100 Python proje'"
            ]
          },
          "metadata": {},
          "execution_count": 10
        }
      ]
    }
  ]
}